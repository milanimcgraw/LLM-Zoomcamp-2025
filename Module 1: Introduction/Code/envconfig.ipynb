{
 "cells": [
  {
   "cell_type": "code",
   "execution_count": 1,
   "id": "341c103e-93a9-4174-9f67-8281c82e6c38",
   "metadata": {},
   "outputs": [],
   "source": [
    "import openai"
   ]
  },
  {
   "cell_type": "code",
   "execution_count": 2,
   "id": "8beda8d1-14bd-4f7f-9f06-20e4f3678e7d",
   "metadata": {},
   "outputs": [],
   "source": [
    "from openai import OpenAI"
   ]
  },
  {
   "cell_type": "code",
   "execution_count": 13,
   "id": "0c711a52-e491-48fa-9741-189934fec125",
   "metadata": {},
   "outputs": [],
   "source": [
    "client = OpenAI()"
   ]
  },
  {
   "cell_type": "code",
   "execution_count": 14,
   "id": "5edb01bc-dfb6-4de2-bb35-bc8bd5f61d8c",
   "metadata": {},
   "outputs": [],
   "source": [
    "import os"
   ]
  },
  {
   "cell_type": "code",
   "execution_count": 19,
   "id": "1843e192-eff0-4f85-9d6a-b829a8fe3673",
   "metadata": {},
   "outputs": [],
   "source": [
    "response = client.chat.completions.create(\n",
    "    model = 'gpt-4o',\n",
    "    messages = [{\"role\": \"user\", \"content\": \"is it too late to join the course?\"}]\n",
    ")"
   ]
  },
  {
   "cell_type": "code",
   "execution_count": 20,
   "id": "74102074-e0e9-450e-bfeb-8f6b9211e6b5",
   "metadata": {},
   "outputs": [
    {
     "data": {
      "text/plain": [
       "\"To determine if it's too late to join a course, you'll need to consider several factors:\\n\\n1. **Enrollment Deadlines**: Check if the course has a specific enrollment deadline. Many courses require registration by a certain date.\\n\\n2. **Course Start Date**: Look at when the course begins. If it has already started, you may need to inquire whether late enrollment is a possibility.\\n\\n3. **Institution Policies**: Some institutions allow late enrollments with certain conditions, such as instructor approval or paying a late fee.\\n\\n4. **Course Type**: Online courses, especially those that are self-paced, might offer more flexibility for late joiners compared to traditional in-person classes.\\n\\n5. **Prerequisites**: Ensure you meet any prerequisites required before joining the course.\\n\\n6. **Contact the Provider**: The most effective way to get a definitive answer is to contact the course provider or institution directly. They will have the most accurate and relevant information regarding enrollment.\\n\\nIf you can provide specific details about the course or institution, I may be able to offer more tailored advice.\""
      ]
     },
     "execution_count": 20,
     "metadata": {},
     "output_type": "execute_result"
    }
   ],
   "source": [
    "response.choices[0].message.content"
   ]
  }
 ],
 "metadata": {
  "kernelspec": {
   "display_name": "Python 3 (ipykernel)",
   "language": "python",
   "name": "python3"
  },
  "language_info": {
   "codemirror_mode": {
    "name": "ipython",
    "version": 3
   },
   "file_extension": ".py",
   "mimetype": "text/x-python",
   "name": "python",
   "nbconvert_exporter": "python",
   "pygments_lexer": "ipython3",
   "version": "3.12.1"
  }
 },
 "nbformat": 4,
 "nbformat_minor": 5
}
