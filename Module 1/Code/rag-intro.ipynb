{
 "cells": [
  {
   "cell_type": "code",
   "execution_count": 2,
   "id": "4fd6d76a-7eed-4d4e-ab53-48de381841b4",
   "metadata": {},
   "outputs": [],
   "source": [
    "import minsearch"
   ]
  },
  {
   "cell_type": "code",
   "execution_count": 3,
   "id": "f128eecd-2431-4521-a178-d0644ed9b0fa",
   "metadata": {},
   "outputs": [],
   "source": [
    "import json"
   ]
  },
  {
   "cell_type": "code",
   "execution_count": 4,
   "id": "4c9f02f8-8e1a-458d-b9d9-7d4022239561",
   "metadata": {},
   "outputs": [],
   "source": [
    "with open('documents.json', 'rt') as f_in:\n",
    "    docs_raw = json.load(f_in)"
   ]
  },
  {
   "cell_type": "code",
   "execution_count": 5,
   "id": "0863bbbe-5c0c-446a-b346-3b8ecb4e94f1",
   "metadata": {},
   "outputs": [],
   "source": [
    "documents = []\n",
    "\n",
    "for course_dict in docs_raw:\n",
    "    for doc in course_dict['documents']:\n",
    "        doc['course'] = course_dict['course']\n",
    "        documents.append(doc)"
   ]
  },
  {
   "cell_type": "code",
   "execution_count": 6,
   "id": "32d0ca91-473e-4765-9024-aaf3371c7717",
   "metadata": {},
   "outputs": [
    {
     "data": {
      "text/plain": [
       "{'text': \"The purpose of this document is to capture frequently asked technical questions\\nThe exact day and hour of the course will be 15th Jan 2024 at 17h00. The course will start with the first  “Office Hours'' live.1\\nSubscribe to course public Google Calendar (it works from Desktop only).\\nRegister before the course starts using this link.\\nJoin the course Telegram channel with announcements.\\nDon’t forget to register in DataTalks.Club's Slack and join the channel.\",\n",
       " 'section': 'General course-related questions',\n",
       " 'question': 'Course - When will the course start?',\n",
       " 'course': 'data-engineering-zoomcamp'}"
      ]
     },
     "execution_count": 6,
     "metadata": {},
     "output_type": "execute_result"
    }
   ],
   "source": [
    "documents[0]"
   ]
  },
  {
   "cell_type": "code",
   "execution_count": 7,
   "id": "bd69855c-9826-4cd9-bef2-62f00a1ce96f",
   "metadata": {},
   "outputs": [],
   "source": [
    "index = minsearch.Index(\n",
    "    text_fields=[\"question\", \"text\", \"section\"],\n",
    "    keyword_fields=[\"course\"]\n",
    ")"
   ]
  },
  {
   "cell_type": "code",
   "execution_count": 8,
   "id": "765fbb1d-8ca8-41a8-8a5c-5122651576ef",
   "metadata": {},
   "outputs": [],
   "source": [
    "q = 'the course has already started, can I still enroll?'"
   ]
  },
  {
   "cell_type": "code",
   "execution_count": 9,
   "id": "7a909c57-9d3e-48c4-92dc-201939dcff46",
   "metadata": {},
   "outputs": [
    {
     "data": {
      "text/plain": [
       "<minsearch.Index at 0x7e2482d8cad0>"
      ]
     },
     "execution_count": 9,
     "metadata": {},
     "output_type": "execute_result"
    }
   ],
   "source": [
    "index.fit(documents)"
   ]
  },
  {
   "cell_type": "code",
   "execution_count": 10,
   "id": "fd52f264-992d-4f51-81ca-4019933a23d9",
   "metadata": {},
   "outputs": [],
   "source": [
    "from openai import OpenAI"
   ]
  },
  {
   "cell_type": "code",
   "execution_count": 11,
   "id": "7816fd4c-e606-4620-91b6-9df0ab806391",
   "metadata": {},
   "outputs": [],
   "source": [
    "client = OpenAI()"
   ]
  },
  {
   "cell_type": "code",
   "execution_count": 12,
   "id": "8e0dbf25-96ef-48cd-b00e-43c86a350724",
   "metadata": {},
   "outputs": [],
   "source": [
    "response = client.chat.completions.create(\n",
    "    model='gpt-4o',\n",
    "    messages=[{\"role\": \"user\", \"content\": q}]\n",
    ")"
   ]
  },
  {
   "cell_type": "code",
   "execution_count": 13,
   "id": "8ee4af50-fc52-43b9-b754-d986b1b19d21",
   "metadata": {},
   "outputs": [
    {
     "data": {
      "text/plain": [
       "\"It depends on the specific course and the institution offering it. Many courses have a late enrollment period that allows students to join after the official start date, often with certain conditions or limitations. It's best to contact the course instructor or the admissions office of the institution offering the course to inquire about late enrollment options and any potential consequences, such as missed coursework or additional fees.\""
      ]
     },
     "execution_count": 13,
     "metadata": {},
     "output_type": "execute_result"
    }
   ],
   "source": [
    "response.choices[0].message.content"
   ]
  },
  {
   "cell_type": "code",
   "execution_count": 14,
   "id": "f345cfc1-e892-4b1c-b0b1-2b0ebf1fa4d8",
   "metadata": {},
   "outputs": [],
   "source": [
    "def search(query): \n",
    "    boost = {'question': 3.0, 'section': 0.5}\n",
    "\n",
    "    results = index.search(\n",
    "        query=query,\n",
    "        filter_dict={'course': 'data-engineering-zoomcamp'},\n",
    "        boost_dict=boost,\n",
    "        num_results=5\n",
    "    )\n",
    "\n",
    "    return results"
   ]
  },
  {
   "cell_type": "code",
   "execution_count": 15,
   "id": "10c14bf4-8007-476d-91f0-6089720a6fc2",
   "metadata": {},
   "outputs": [],
   "source": [
    "def build_prompt(query, search_results):\n",
    "    prompt_template = \"\"\"\n",
    "You're a course teaching assistant. Answer the QUESTION based on the CONTEXT from the FAQ database. \n",
    "Use only the facts from the CONTEXT when answering the QUESTION. \n",
    "\n",
    "QUESTION: {question}\n",
    "\n",
    "CONTEXT:\n",
    "{context}\n",
    "\"\"\".strip()\n",
    "\n",
    "    context = \"\"\n",
    "\n",
    "    for doc in search_results: \n",
    "        context = context + f\"section: {doc['section']}\\nquestion: {doc['question']}\\nanswer: {doc['text']}\\n\\n\"\n",
    "\n",
    "    prompt = prompt_template.format(question=query, context=context).strip()\n",
    "    return prompt"
   ]
  },
  {
   "cell_type": "code",
   "execution_count": 16,
   "id": "fc80bc17-646e-4184-bcf1-9bdfe0e28f01",
   "metadata": {},
   "outputs": [],
   "source": [
    "def llm(prompt):\n",
    "    response = client.chat.completions.create(\n",
    "        model='gpt-4o',\n",
    "        messages=[{\"role\": \"user\", \"content\": prompt}]\n",
    "    )\n",
    "\n",
    "    return response.choices[0].message.content"
   ]
  },
  {
   "cell_type": "code",
   "execution_count": 17,
   "id": "05043489-c203-42f4-bbe0-50bb672ceaf3",
   "metadata": {},
   "outputs": [],
   "source": [
    "query = 'how do i run kafka?'\n",
    "\n",
    "def rag(query):\n",
    "    search_results = search(query)\n",
    "    prompt = build_prompt(query, search_results)\n",
    "    answer = llm(prompt)\n",
    "    return answer"
   ]
  },
  {
   "cell_type": "code",
   "execution_count": 18,
   "id": "45857d4a-cdaf-40ae-b45b-f6a92123f32d",
   "metadata": {},
   "outputs": [
    {
     "data": {
      "text/plain": [
       "\"To run Kafka, if you are working with Java, you should execute the following command in your project directory:\\n\\n```bash\\njava -cp build/libs/<jar_name>-1.0-SNAPSHOT.jar:out src/main/java/org/example/JsonProducer.java\\n```\\n\\nIf you are working with Python, consider creating a virtual environment and running the requirements.txt in that environment. This ensures that all necessary dependencies are available for running your Kafka producer/consumer:\\n\\n```bash\\n# Create a virtual environment (run only once)\\npython -m venv env\\n\\n# Activate the virtual environment\\nsource env/bin/activate\\n\\n# Install required packages\\npip install -r ../requirements.txt\\n```\\n\\nEnsure you activate the virtual environment every time you need to run the Python files:\\n\\n```bash\\nsource env/bin/activate\\n```\\n\\nDeactivate the virtual environment when you're done:\\n\\n```bash\\ndeactivate\\n```\\n\\nThis process works on MacOS and Linux. For Windows, the activation command is slightly different:\\n\\n```bash\\nenv\\\\Scripts\\\\activate\\n```\\n\\nAdditionally, make sure all required Docker images are up and running if your setup involves Docker.\""
      ]
     },
     "execution_count": 18,
     "metadata": {},
     "output_type": "execute_result"
    }
   ],
   "source": [
    "rag(query)"
   ]
  },
  {
   "cell_type": "code",
   "execution_count": 19,
   "id": "9061910b-4b03-45e6-a366-0108e7dba842",
   "metadata": {},
   "outputs": [
    {
     "data": {
      "text/plain": [
       "\"Yes, you can still enroll in the course after it has started. Even if you don't register right away, you are still eligible to submit the homework assignments. However, be mindful of the deadlines for submitting the final projects, so it’s best not to leave everything until the last minute.\""
      ]
     },
     "execution_count": 19,
     "metadata": {},
     "output_type": "execute_result"
    }
   ],
   "source": [
    "rag('the course has already started, can i still enroll?')"
   ]
  },
  {
   "cell_type": "code",
   "execution_count": 20,
   "id": "71edad59-545f-46d9-9b4e-56dc6166f9af",
   "metadata": {},
   "outputs": [
    {
     "data": {
      "text/plain": [
       "{'text': \"The purpose of this document is to capture frequently asked technical questions\\nThe exact day and hour of the course will be 15th Jan 2024 at 17h00. The course will start with the first  “Office Hours'' live.1\\nSubscribe to course public Google Calendar (it works from Desktop only).\\nRegister before the course starts using this link.\\nJoin the course Telegram channel with announcements.\\nDon’t forget to register in DataTalks.Club's Slack and join the channel.\",\n",
       " 'section': 'General course-related questions',\n",
       " 'question': 'Course - When will the course start?',\n",
       " 'course': 'data-engineering-zoomcamp'}"
      ]
     },
     "execution_count": 20,
     "metadata": {},
     "output_type": "execute_result"
    }
   ],
   "source": [
    "documents[0]"
   ]
  },
  {
   "cell_type": "code",
   "execution_count": 21,
   "id": "4723b1b2-1774-4c70-adc3-474fd0d5cbee",
   "metadata": {},
   "outputs": [],
   "source": [
    "from elasticsearch import Elasticsearch"
   ]
  },
  {
   "cell_type": "code",
   "execution_count": 22,
   "id": "7ec826a4-1d0d-452d-bfba-b0a2b80be160",
   "metadata": {},
   "outputs": [],
   "source": [
    "es_client = Elasticsearch('http://localhost:9200')"
   ]
  },
  {
   "cell_type": "code",
   "execution_count": 23,
   "id": "d645b70c-c5a1-4ad6-8eb6-d025efc7788f",
   "metadata": {},
   "outputs": [
    {
     "data": {
      "text/plain": [
       "ObjectApiResponse({'acknowledged': True, 'shards_acknowledged': True, 'index': 'course-questions'})"
      ]
     },
     "execution_count": 23,
     "metadata": {},
     "output_type": "execute_result"
    }
   ],
   "source": [
    "index_settings = {\n",
    "    \"settings\": {\n",
    "        \"number_of_shards\": 1,\n",
    "        \"number_of_replicas\": 0\n",
    "    },\n",
    "    \"mappings\": {\n",
    "        \"properties\": {\n",
    "            \"text\": {\"type\": \"text\"},\n",
    "            \"section\": {\"type\": \"text\"},\n",
    "            \"question\": {\"type\": \"text\"},\n",
    "            \"course\": {\"type\": \"keyword\"} \n",
    "        }\n",
    "    }\n",
    "}\n",
    "\n",
    "index_name = \"course-questions\"\n",
    "\n",
    "es_client.indices.create(index=index_name, body=index_settings)"
   ]
  },
  {
   "cell_type": "code",
   "execution_count": 24,
   "id": "52222577-66f0-4e70-b669-e5ad302b89ad",
   "metadata": {},
   "outputs": [
    {
     "data": {
      "text/plain": [
       "{'text': \"The purpose of this document is to capture frequently asked technical questions\\nThe exact day and hour of the course will be 15th Jan 2024 at 17h00. The course will start with the first  “Office Hours'' live.1\\nSubscribe to course public Google Calendar (it works from Desktop only).\\nRegister before the course starts using this link.\\nJoin the course Telegram channel with announcements.\\nDon’t forget to register in DataTalks.Club's Slack and join the channel.\",\n",
       " 'section': 'General course-related questions',\n",
       " 'question': 'Course - When will the course start?',\n",
       " 'course': 'data-engineering-zoomcamp'}"
      ]
     },
     "execution_count": 24,
     "metadata": {},
     "output_type": "execute_result"
    }
   ],
   "source": [
    "documents[0]"
   ]
  },
  {
   "cell_type": "code",
   "execution_count": 25,
   "id": "1eb03065-6b9d-4839-a47c-311eaed0009d",
   "metadata": {},
   "outputs": [],
   "source": [
    "from tqdm.auto import tqdm"
   ]
  },
  {
   "cell_type": "code",
   "execution_count": 26,
   "id": "e9ef3b93-4995-4c11-b555-8b2cac7495f5",
   "metadata": {},
   "outputs": [
    {
     "data": {
      "application/vnd.jupyter.widget-view+json": {
       "model_id": "f1e9989dd3954bdf87db7908eb98cf5f",
       "version_major": 2,
       "version_minor": 0
      },
      "text/plain": [
       "  0%|          | 0/948 [00:00<?, ?it/s]"
      ]
     },
     "metadata": {},
     "output_type": "display_data"
    }
   ],
   "source": [
    "for doc in tqdm(documents):\n",
    "    es_client.index(index=index_name, document=doc)"
   ]
  },
  {
   "cell_type": "code",
   "execution_count": 27,
   "id": "45e3a947-575d-48ab-8c12-b5d852cb3bad",
   "metadata": {},
   "outputs": [],
   "source": [
    "query = 'I just disovered the course. Can I still join it?'"
   ]
  },
  {
   "cell_type": "code",
   "execution_count": 28,
   "id": "404dce1a-85de-47d4-8ea9-e6ef8aabcf25",
   "metadata": {},
   "outputs": [],
   "source": [
    "def elastic_search(query):\n",
    "    search_query = {\n",
    "        \"size\": 5,\n",
    "        \"query\": {\n",
    "            \"bool\": {\n",
    "                \"must\": {\n",
    "                    \"multi_match\": {\n",
    "                        \"query\": query,\n",
    "                        \"fields\": [\"question^3\", \"text\", \"section\"],\n",
    "                        \"type\": \"best_fields\"\n",
    "                    }\n",
    "                },\n",
    "                \"filter\": {\n",
    "                    \"term\": {\n",
    "                        \"course\": \"data-engineering-zoomcamp\"\n",
    "                    }\n",
    "                }\n",
    "            }\n",
    "        }\n",
    "    }\n",
    "\n",
    "    response = es_client.search(index=index_name, body=search_query)\n",
    "    \n",
    "    result_docs = []\n",
    "    \n",
    "    for hit in response['hits']['hits']:\n",
    "        result_docs.append(hit['_source'])\n",
    "    \n",
    "    return result_docs"
   ]
  },
  {
   "cell_type": "code",
   "execution_count": 29,
   "id": "1c795d50-5d36-4497-92db-86c9d0e1bea1",
   "metadata": {},
   "outputs": [],
   "source": [
    "def rag(query):\n",
    "    search_results = elastic_search(query)\n",
    "    prompt = build_prompt(query, search_results)\n",
    "    answer = llm(prompt)\n",
    "    return answer"
   ]
  },
  {
   "cell_type": "code",
   "execution_count": 30,
   "id": "d6fdd7e2-47d5-400b-b5a4-edee2fa8bf30",
   "metadata": {},
   "outputs": [
    {
     "data": {
      "text/plain": [
       "'Yes, you can still join the course even if it has already started. You are eligible to submit the homework without registration. However, be mindful of the deadlines for turning in the final projects and avoid leaving everything for the last minute.'"
      ]
     },
     "execution_count": 30,
     "metadata": {},
     "output_type": "execute_result"
    }
   ],
   "source": [
    "rag(query)"
   ]
  },
  {
   "cell_type": "markdown",
   "id": "8ad935da-9ce4-4e11-abd2-7add382309de",
   "metadata": {},
   "source": [
    "# Homework"
   ]
  },
  {
   "cell_type": "markdown",
   "id": "1e6424b2-01fe-4b75-81ab-ff0d8de12599",
   "metadata": {},
   "source": [
    "### Q1\n",
    "\n",
    "Run Elastic Search 8.17.6, and get the cluster information. If you run it on localhost, this is how you do it:\n",
    "\n",
    "```curl localhost:9200 ```\n",
    "\n",
    "What's the ```version.build_hash``` value?"
   ]
  },
  {
   "cell_type": "markdown",
   "id": "db5dacde-c77e-49bd-9341-7d96d88c8f6c",
   "metadata": {},
   "source": [
    "```$ curl localhost:9200\n",
    "{\n",
    "  \"name\" : \"c77b8b921161\",\n",
    "  \"cluster_name\" : \"docker-cluster\",\n",
    "  \"cluster_uuid\" : \"BU90ushSTFqQ7QY_RiebYg\",\n",
    "  \"version\" : {\n",
    "    \"number\" : \"8.4.3\",\n",
    "    \"build_flavor\" : \"default\",\n",
    "    \"build_type\" : \"docker\",\n",
    "    \"build_hash\" : \"42f05b9372a9a4a470db3b52817899b99a76ee73\",\n",
    "    \"build_date\" : \"2022-10-04T07:17:24.662462378Z\",\n",
    "    \"build_snapshot\" : false,\n",
    "    \"lucene_version\" : \"9.3.0\",\n",
    "    \"minimum_wire_compatibility_version\" : \"7.17.0\",\n",
    "    \"minimum_index_compatibility_version\" : \"7.0.0\"\n",
    "  },\n",
    "  \"tagline\" : \"You Know, for Search\"\n",
    "} ```"
   ]
  },
  {
   "cell_type": "code",
   "execution_count": 31,
   "id": "b37f7464-e2da-45da-bd9a-b666b286e812",
   "metadata": {},
   "outputs": [],
   "source": [
    "import requests"
   ]
  },
  {
   "cell_type": "markdown",
   "id": "9c7150bf-3661-447a-bbf4-800b106a92be",
   "metadata": {},
   "source": [
    "https://raw.githubusercontent.com/milanimcgraw/LLM-Zoomcamp-2025/refs/heads/main/Module%201%3A%20Introduction/documents.json"
   ]
  },
  {
   "cell_type": "code",
   "execution_count": 32,
   "id": "c8edb037-503c-40eb-acc4-fa8e8fa6c864",
   "metadata": {},
   "outputs": [],
   "source": [
    "#fetch docs\n",
    "docs_url = 'https://raw.githubusercontent.com/milanimcgraw/LLM-Zoomcamp-2025/refs/heads/main/Module%201%3A%20Introduction/documents.json'\n",
    "\n",
    "docs_response = requests.get(docs_url)\n",
    "\n",
    "documents_raw = docs_response.json()"
   ]
  },
  {
   "cell_type": "code",
   "execution_count": 33,
   "id": "d12f5ffb-5606-4182-b241-57f61ce0323b",
   "metadata": {},
   "outputs": [],
   "source": [
    "#prep docs\n",
    "documents = []\n",
    "for course in documents_raw:\n",
    "    course_name = course['course']\n",
    "    \n",
    "    for doc in course['documents']:\n",
    "        doc['course'] = course_name\n",
    "        documents.append(doc)"
   ]
  },
  {
   "cell_type": "markdown",
   "id": "cb60dc5f-815a-4df6-a826-0f1b579e8434",
   "metadata": {},
   "source": [
    "### Q2\n",
    "\n",
    "Which function do you use for adding your data to elastic?\n",
    "\n",
    "- ```insert```\n",
    "- ```index```\n",
    "- ```put```\n",
    "- ```add```"
   ]
  },
  {
   "cell_type": "code",
   "execution_count": 68,
   "id": "c0ec1959-154d-4dd5-b039-02346d740eab",
   "metadata": {},
   "outputs": [],
   "source": [
    "#index settings/mappings\n",
    "index_name = \"faq-index\"\n",
    "\n",
    "index_settings = {\n",
    "    \"settings\": {\n",
    "        \"number_of_shards\": 1,\n",
    "        \"number_of_replicas\": 0\n",
    "    },\n",
    "    \"mappings\": {\n",
    "        \"properties\": {\n",
    "            \"text\": {\"type\": \"text\"},\n",
    "            \"question\": {\"type\": \"text\"},\n",
    "            \"section\": {\"type\": \"text\"},\n",
    "            \"course\": {\"type\": \"keyword\"}\n",
    "        }\n",
    "    }\n",
    "}\n"
   ]
  },
  {
   "cell_type": "code",
   "execution_count": 69,
   "id": "48b51ad5-2eb9-408d-beab-68ede66a02e7",
   "metadata": {},
   "outputs": [],
   "source": [
    "#connect to Elasticsearch\n",
    "es = Elasticsearch(\"http://localhost:9200\")"
   ]
  },
  {
   "cell_type": "code",
   "execution_count": 70,
   "id": "36e5f3ed-9c92-4662-8c2c-f6f513b71d8d",
   "metadata": {},
   "outputs": [
    {
     "name": "stderr",
     "output_type": "stream",
     "text": [
      "/tmp/ipykernel_74937/2880972178.py:2: DeprecationWarning: Passing transport options in the API method is deprecated. Use 'Elasticsearch.options()' instead.\n",
      "  es.indices.create(index=index_name, body=index_settings, ignore=400)\n"
     ]
    },
    {
     "data": {
      "text/plain": [
       "ObjectApiResponse({'error': {'root_cause': [{'type': 'resource_already_exists_exception', 'reason': 'index [faq-index/rsSYsQNNRpmBX7aaIgOVcA] already exists', 'index_uuid': 'rsSYsQNNRpmBX7aaIgOVcA', 'index': 'faq-index'}], 'type': 'resource_already_exists_exception', 'reason': 'index [faq-index/rsSYsQNNRpmBX7aaIgOVcA] already exists', 'index_uuid': 'rsSYsQNNRpmBX7aaIgOVcA', 'index': 'faq-index'}, 'status': 400})"
      ]
     },
     "execution_count": 70,
     "metadata": {},
     "output_type": "execute_result"
    }
   ],
   "source": [
    "#create index\n",
    "es.indices.create(index=index_name, body=index_settings, ignore=400)"
   ]
  },
  {
   "cell_type": "code",
   "execution_count": 71,
   "id": "da4e04e2-38c1-485a-9c27-239d0e1b8794",
   "metadata": {},
   "outputs": [],
   "source": [
    "#index docs\n",
    "for i, doc in enumerate(documents):\n",
    "    es.index(index=index_name, id=i, body=doc)"
   ]
  },
  {
   "cell_type": "markdown",
   "id": "c52dd28d-8927-43c0-a614-aaa939e69d3b",
   "metadata": {},
   "source": [
    "### Q3\n",
    "\n",
    "We will execute a query \"How do execute a command on a Kubernetes pod?\".\n",
    "\n",
    "Use only ```question``` and ```text``` fields and give ```question``` a boost of 4, and use ```\"type\": \"best_fields\"```.\n",
    "\n",
    "What's the score for the top ranking result?\n",
    "\n",
    "- 84.50\n",
    "- 64.50\n",
    "- 44.50\n",
    "- 24.50\n",
    "- \n",
    "Look at the ```_score``` field."
   ]
  },
  {
   "cell_type": "code",
   "execution_count": 81,
   "id": "c9b71c96-a6bb-4b53-865b-826e52256233",
   "metadata": {},
   "outputs": [
    {
     "name": "stdout",
     "output_type": "stream",
     "text": [
      "44.50556\n"
     ]
    }
   ],
   "source": [
    "#searching\n",
    "query = {\n",
    "    \"query\": {\n",
    "        \"multi_match\": {\n",
    "            \"query\": \"How do execute a command on a Kubernetes pod?\",\n",
    "            \"fields\": [\"question^4\", \"text\"],\n",
    "            \"type\": \"best_fields\"\n",
    "        }\n",
    "    }\n",
    "}\n",
    "\n",
    "response = es.search(index=index_name, body=query)\n",
    "\n",
    "top_score = response['hits']['hits'][0]['_score']\n",
    "\n",
    "print(top_score)"
   ]
  },
  {
   "cell_type": "markdown",
   "id": "4d59ce84-32e9-48f1-b119-4a5a7a35684f",
   "metadata": {},
   "source": [
    "### Q4\n",
    "\n",
    "Now ask a different question: \"How do copy a file to a Docker container?\".\n",
    "\n",
    "This time we are only interested in questions from ```machine-learning-zoomcamp```.\n",
    "\n",
    "Return 3 results. What's the 3rd question returned by the search engine?\n",
    "\n",
    "- How do I debug a docker container?\n",
    "- How do I copy files from a different folder into docker container’s working directory?\n",
    "- How do Lambda container images work?\n",
    "- How can I annotate a graph?"
   ]
  },
  {
   "cell_type": "code",
   "execution_count": 89,
   "id": "943e61bc-3965-4789-ad80-08a6e5a06049",
   "metadata": {},
   "outputs": [
    {
     "name": "stdout",
     "output_type": "stream",
     "text": [
      "73.38676 How do I debug a docker container?\n",
      "66.688705 How do I copy files from my local machine to docker container?\n",
      "59.812744 How do I copy files from a different folder into docker container’s working directory?\n"
     ]
    }
   ],
   "source": [
    "#filtering\n",
    "query =  {\n",
    "    \"size\": 3,  # limit to 3 results here\n",
    "    \"query\": {\n",
    "        \"bool\": {\n",
    "            \"must\": {\n",
    "                \"multi_match\": {\n",
    "                    \"query\": \"How do copy a file to a Docker container?\",\n",
    "                    \"fields\": [\"question^4\", \"text\"],\n",
    "                    \"type\": \"best_fields\"\n",
    "                }\n",
    "            },\n",
    "            \"filter\": {\n",
    "                \"term\": {\n",
    "                    \"course\": \"machine-learning-zoomcamp\"\n",
    "                }\n",
    "            }\n",
    "        }\n",
    "    }\n",
    "}\n",
    "\n",
    "\n",
    "response = es.search(index=index_name, body=query)\n",
    "\n",
    "for hit in response[\"hits\"][\"hits\"]:\n",
    "    print(hit[\"_score\"], hit[\"_source\"].get(\"question\"))"
   ]
  },
  {
   "cell_type": "markdown",
   "id": "c2c515ce-8739-41df-9c30-30a39c619a10",
   "metadata": {},
   "source": [
    "### Q5\n",
    "\n",
    "Now we're ready to build a prompt to send to an LLM.\n",
    "\n",
    "Take the records returned from Elasticsearch in Q4 and use this template to build the context. Separate context entries by two linebreaks ```(\\n\\n)```\n",
    "\n",
    "```python\n",
    "context_template = \"\"\"\n",
    "Q: {question}\n",
    "A: {text}\n",
    "\"\"\".strip()"
   ]
  },
  {
   "cell_type": "code",
   "execution_count": 97,
   "id": "af32e3a1-9506-4f3f-9456-aa39c2d9672f",
   "metadata": {},
   "outputs": [],
   "source": [
    "# q&a context template for each result\n",
    "context_template = \"\"\"Q: {question}\n",
    "A: {text}\"\"\".strip()"
   ]
  },
  {
   "cell_type": "code",
   "execution_count": 98,
   "id": "e4b97229-9030-4308-ac05-ce900b6ea860",
   "metadata": {},
   "outputs": [],
   "source": [
    "# join context parts\n",
    "context_parts = []\n",
    "for hit in response[\"hits\"][\"hits\"]:\n",
    "    q = hit[\"_source\"][\"question\"]\n",
    "    a = hit[\"_source\"][\"text\"]\n",
    "    context_parts.append(context_template.format(question=q, text=a))\n",
    "\n",
    "context = \"\\n\\n\".join(context_parts)\n"
   ]
  },
  {
   "cell_type": "code",
   "execution_count": 99,
   "id": "0bd4ccf1-bb1f-4ba7-8969-67c82cc41614",
   "metadata": {},
   "outputs": [],
   "source": [
    "prompt_template = \"\"\"\n",
    "You're a course teaching assistant. Answer the QUESTION based on the CONTEXT from the FAQ database.\n",
    "Use only the facts from the CONTEXT when answering the QUESTION.\n",
    "\n",
    "QUESTION: {question}\n",
    "\n",
    "CONTEXT:\n",
    "{context}\n",
    "\"\"\".strip()"
   ]
  },
  {
   "cell_type": "code",
   "execution_count": 100,
   "id": "4966c450-1018-4d1b-a3b8-fe342efd2577",
   "metadata": {},
   "outputs": [],
   "source": [
    "query = \"How do copy a file to a Docker container?\"\n",
    "\n",
    "final_prompt = prompt_template.format(question=query, context=context)"
   ]
  },
  {
   "cell_type": "code",
   "execution_count": 101,
   "id": "daa63904-1104-4bf1-bdbd-20717a811322",
   "metadata": {},
   "outputs": [
    {
     "name": "stdout",
     "output_type": "stream",
     "text": [
      "1446\n"
     ]
    }
   ],
   "source": [
    "print(len(final_prompt))"
   ]
  },
  {
   "cell_type": "markdown",
   "id": "40edde27-7b3e-4745-9dde-572efb4c61f4",
   "metadata": {},
   "source": [
    "### Q6\n",
    "When we use the OpenAI Platform, we're charged by the number of tokens we send in our prompt and receive in the response.\n",
    "\n",
    "The OpenAI Python package uses `tiktoken` for tokenization:\n",
    "\n",
    "```bash\n",
    "pip install tiktoken\n",
    "```\n",
    "\n",
    "Let's calculate the number of tokens in our query:\n",
    "\n",
    "```python\n",
    "encoding = tiktoken.encoding_for_model(\"gpt-4o\")\n",
    "```\n",
    "\n",
    "Use the `encode` function. How many tokens does our prompt have?\n",
    "\n",
    "- 120  \n",
    "- 220  \n",
    "- 320  \n",
    "- 420  \n",
    "\n",
    "> 💡 **Note**: To decode a token back into a word, you can use the `decode_single_token_bytes` function:\n",
    "\n",
    "```python\n",
    "encoding.decode_single_token_bytes(63842)\n",
    "```\n"
   ]
  },
  {
   "cell_type": "code",
   "execution_count": 103,
   "id": "10ed8c8f-bbd8-4752-8fb3-c67feda63de1",
   "metadata": {},
   "outputs": [
    {
     "name": "stdout",
     "output_type": "stream",
     "text": [
      "Collecting tiktoken\n",
      "  Downloading tiktoken-0.9.0-cp312-cp312-manylinux_2_17_x86_64.manylinux2014_x86_64.whl.metadata (6.7 kB)\n",
      "Collecting regex>=2022.1.18 (from tiktoken)\n",
      "  Downloading regex-2024.11.6-cp312-cp312-manylinux_2_17_x86_64.manylinux2014_x86_64.whl.metadata (40 kB)\n",
      "Requirement already satisfied: requests>=2.26.0 in /home/codespace/.local/lib/python3.12/site-packages (from tiktoken) (2.32.3)\n",
      "Requirement already satisfied: charset-normalizer<4,>=2 in /home/codespace/.local/lib/python3.12/site-packages (from requests>=2.26.0->tiktoken) (3.4.1)\n",
      "Requirement already satisfied: idna<4,>=2.5 in /home/codespace/.local/lib/python3.12/site-packages (from requests>=2.26.0->tiktoken) (3.10)\n",
      "Requirement already satisfied: urllib3<3,>=1.21.1 in /home/codespace/.local/lib/python3.12/site-packages (from requests>=2.26.0->tiktoken) (2.3.0)\n",
      "Requirement already satisfied: certifi>=2017.4.17 in /home/codespace/.local/lib/python3.12/site-packages (from requests>=2.26.0->tiktoken) (2025.1.31)\n",
      "Downloading tiktoken-0.9.0-cp312-cp312-manylinux_2_17_x86_64.manylinux2014_x86_64.whl (1.2 MB)\n",
      "\u001b[2K   \u001b[38;2;114;156;31m━━━━━━━━━━━━━━━━━━━━━━━━━━━━━━━━━━━━━━━━\u001b[0m \u001b[32m1.2/1.2 MB\u001b[0m \u001b[31m38.1 MB/s\u001b[0m eta \u001b[36m0:00:00\u001b[0m\n",
      "\u001b[?25hDownloading regex-2024.11.6-cp312-cp312-manylinux_2_17_x86_64.manylinux2014_x86_64.whl (796 kB)\n",
      "\u001b[2K   \u001b[38;2;114;156;31m━━━━━━━━━━━━━━━━━━━━━━━━━━━━━━━━━━━━━━━━\u001b[0m \u001b[32m796.9/796.9 kB\u001b[0m \u001b[31m31.9 MB/s\u001b[0m eta \u001b[36m0:00:00\u001b[0m\n",
      "\u001b[?25hInstalling collected packages: regex, tiktoken\n",
      "\u001b[2K   \u001b[38;2;114;156;31m━━━━━━━━━━━━━━━━━━━━━━━━━━━━━━━━━━━━━━━━\u001b[0m \u001b[32m2/2\u001b[0m [tiktoken]\n",
      "\u001b[1A\u001b[2KSuccessfully installed regex-2024.11.6 tiktoken-0.9.0\n",
      "Note: you may need to restart the kernel to use updated packages.\n"
     ]
    }
   ],
   "source": [
    "pip install tiktoken"
   ]
  },
  {
   "cell_type": "code",
   "execution_count": 104,
   "id": "07cce32c-a821-4f66-8387-60c79cd22f21",
   "metadata": {},
   "outputs": [],
   "source": [
    "import tiktoken"
   ]
  },
  {
   "cell_type": "code",
   "execution_count": 105,
   "id": "530acce0-07af-4477-9741-0a6cafd02dd5",
   "metadata": {},
   "outputs": [],
   "source": [
    "encoding = tiktoken.encoding_for_model(\"gpt-4o\")"
   ]
  },
  {
   "cell_type": "code",
   "execution_count": 107,
   "id": "15a886c5-5f3e-4a13-b853-523f0e164da6",
   "metadata": {},
   "outputs": [
    {
     "name": "stdout",
     "output_type": "stream",
     "text": [
      "Token count: 320\n"
     ]
    }
   ],
   "source": [
    "token_count = len(encoding.encode(final_prompt))\n",
    "\n",
    "print(\"Token count:\", token_count)"
   ]
  }
 ],
 "metadata": {
  "kernelspec": {
   "display_name": "Python 3 (ipykernel)",
   "language": "python",
   "name": "python3"
  },
  "language_info": {
   "codemirror_mode": {
    "name": "ipython",
    "version": 3
   },
   "file_extension": ".py",
   "mimetype": "text/x-python",
   "name": "python",
   "nbconvert_exporter": "python",
   "pygments_lexer": "ipython3",
   "version": "3.12.1"
  }
 },
 "nbformat": 4,
 "nbformat_minor": 5
}
